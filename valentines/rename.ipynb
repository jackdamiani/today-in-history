{
 "cells": [
  {
   "cell_type": "code",
   "execution_count": 1,
   "metadata": {},
   "outputs": [
    {
     "name": "stdout",
     "output_type": "stream",
     "text": [
      "All files renamed successfully!\n"
     ]
    }
   ],
   "source": [
    "import os\n",
    "\n",
    "# Path to the folder containing the pictures\n",
    "folder_path = \"pictures\"\n",
    "\n",
    "# Get all files in the folder\n",
    "files = [f for f in os.listdir(folder_path) if f.endswith('.jpg')]\n",
    "\n",
    "# Sort the files (optional, ensures consistent renaming order)\n",
    "files.sort()\n",
    "\n",
    "# Rename files sequentially\n",
    "for index, filename in enumerate(files, start=1):\n",
    "    old_path = os.path.join(folder_path, filename)\n",
    "    new_path = os.path.join(folder_path, f\"{index}.jpg\")\n",
    "    os.rename(old_path, new_path)\n",
    "\n",
    "print(\"All files renamed successfully!\")\n"
   ]
  }
 ],
 "metadata": {
  "kernelspec": {
   "display_name": "Python 3",
   "language": "python",
   "name": "python3"
  },
  "language_info": {
   "codemirror_mode": {
    "name": "ipython",
    "version": 3
   },
   "file_extension": ".py",
   "mimetype": "text/x-python",
   "name": "python",
   "nbconvert_exporter": "python",
   "pygments_lexer": "ipython3",
   "version": "3.11.2"
  }
 },
 "nbformat": 4,
 "nbformat_minor": 2
}
