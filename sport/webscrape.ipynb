{
 "cells": [
  {
   "cell_type": "code",
   "execution_count": 1,
   "metadata": {},
   "outputs": [
    {
     "name": "stdout",
     "output_type": "stream",
     "text": [
      "Requirement already satisfied: requests in c:\\users\\jack damiani\\appdata\\local\\programs\\python\\python311\\lib\\site-packages (2.31.0)\n",
      "Requirement already satisfied: beautifulsoup4 in c:\\users\\jack damiani\\appdata\\local\\programs\\python\\python311\\lib\\site-packages (4.12.2)\n",
      "Requirement already satisfied: lxml in c:\\users\\jack damiani\\appdata\\local\\programs\\python\\python311\\lib\\site-packages (5.3.0)\n",
      "Requirement already satisfied: charset-normalizer<4,>=2 in c:\\users\\jack damiani\\appdata\\local\\programs\\python\\python311\\lib\\site-packages (from requests) (3.1.0)\n",
      "Requirement already satisfied: idna<4,>=2.5 in c:\\users\\jack damiani\\appdata\\local\\programs\\python\\python311\\lib\\site-packages (from requests) (3.4)\n",
      "Requirement already satisfied: urllib3<3,>=1.21.1 in c:\\users\\jack damiani\\appdata\\local\\programs\\python\\python311\\lib\\site-packages (from requests) (1.26.16)\n",
      "Requirement already satisfied: certifi>=2017.4.17 in c:\\users\\jack damiani\\appdata\\local\\programs\\python\\python311\\lib\\site-packages (from requests) (2023.5.7)\n",
      "Requirement already satisfied: soupsieve>1.2 in c:\\users\\jack damiani\\appdata\\local\\programs\\python\\python311\\lib\\site-packages (from beautifulsoup4) (2.4.1)\n",
      "Note: you may need to restart the kernel to use updated packages.\n"
     ]
    },
    {
     "name": "stderr",
     "output_type": "stream",
     "text": [
      "\n",
      "[notice] A new release of pip available: 22.3.1 -> 24.3.1\n",
      "[notice] To update, run: python.exe -m pip install --upgrade pip\n"
     ]
    }
   ],
   "source": [
    "%pip install requests beautifulsoup4 lxml "
   ]
  },
  {
   "cell_type": "code",
   "execution_count": 2,
   "metadata": {},
   "outputs": [],
   "source": [
    "import requests\n",
    "from bs4 import BeautifulSoup\n",
    "import re\n",
    "import json"
   ]
  },
  {
   "cell_type": "code",
   "execution_count": 3,
   "metadata": {},
   "outputs": [],
   "source": [
    "def scrape_url(url):\n",
    "    try:\n",
    "        headers = {\n",
    "            'User-Agent': 'Mozilla/5.0 (Windows NT 10.0; Win64; x64) AppleWebKit/537.36 (KHTML, like Gecko) Chrome/114.0.0.0 Safari/537.36'\n",
    "        }\n",
    "        # Send a GET request with headers\n",
    "        response = requests.get(url, headers=headers)\n",
    "        response.raise_for_status()  # Raise HTTPError for bad responses\n",
    "\n",
    "        # Parse the HTML content\n",
    "        soup = BeautifulSoup(response.text, 'lxml')\n",
    "\n",
    "        # Extract meaningful text (e.g., from <p> tags)\n",
    "        paragraphs = soup.find_all('p')\n",
    "        text = '\\n'.join(paragraph.get_text(strip=True) for paragraph in paragraphs)\n",
    "\n",
    "        return text if text else \"No meaningful text found on this page.\"\n",
    "\n",
    "    except requests.exceptions.RequestException as e:\n",
    "        return f\"An error occurred while fetching the URL: {e}\""
   ]
  },
  {
   "cell_type": "code",
   "execution_count": 4,
   "metadata": {},
   "outputs": [],
   "source": [
    "def clean_text(text, stop_line):\n",
    "    \"\"\"\n",
    "    Remove a specific line and everything after it from the text.\n",
    "    \n",
    "    Args:\n",
    "        text (str): The full extracted text.\n",
    "        stop_line (str): The line indicating where to stop.\n",
    "        \n",
    "    Returns:\n",
    "        str: The cleaned text.\n",
    "    \"\"\"\n",
    "    lines = text.split('\\n')  # Split the text into lines\n",
    "    cleaned_lines = []\n",
    "\n",
    "    year_pattern = re.compile(r\"^(\\d{4})—(.+)$\")\n",
    "    \n",
    "    for line in lines:\n",
    "        if stop_line in line:\n",
    "            break  # Stop processing once the stop line is found\n",
    "        cleaned_lines.append(line)\n",
    "    \n",
    "    return '\\n'.join(cleaned_lines)  # Rejoin the cleaned lines"
   ]
  },
  {
   "cell_type": "code",
   "execution_count": 7,
   "metadata": {},
   "outputs": [],
   "source": [
    "def process_text(input_text):\n",
    "    \"\"\"\n",
    "    Extract lines starting with a year in various formats and format them as a dictionary.\n",
    "\n",
    "    Args:\n",
    "        input_text (str): Raw text input.\n",
    "\n",
    "    Returns:\n",
    "        dict: A dictionary with years as keys and the text after the separator as values.\n",
    "    \"\"\"\n",
    "    result = {}\n",
    "\n",
    "    # Unified regex to handle multiple patterns\n",
    "    year_pattern = re.compile(r\"^(\\d{4})\\s*[—–-]{1,2}\\s*(.+)$\")\n",
    "\n",
    "\n",
    "    # Split the text into lines and process each\n",
    "    lines = input_text.splitlines()\n",
    "    for line in lines:\n",
    "        match = year_pattern.match(line)\n",
    "        if match:\n",
    "            year = match.group(1)  # Extract the year\n",
    "            text = match.group(2).strip()  # Extract and clean the text after the year\n",
    "            result[year] = text\n",
    "\n",
    "    return result"
   ]
  },
  {
   "cell_type": "code",
   "execution_count": 5,
   "metadata": {},
   "outputs": [],
   "source": [
    "def filter_years(data, selected_years):\n",
    "    \"\"\"\n",
    "    Filter the dictionary to only keep selected years.\n",
    "\n",
    "    Args:\n",
    "        data (dict): The full dictionary of years and their text.\n",
    "        selected_years (list): List of years to keep.\n",
    "\n",
    "    Returns:\n",
    "        dict: Filtered dictionary with only the selected years.\n",
    "    \"\"\"\n",
    "    return {year: data[year] for year in selected_years if year in data}"
   ]
  },
  {
   "cell_type": "code",
   "execution_count": 15,
   "metadata": {},
   "outputs": [
    {
     "name": "stdout",
     "output_type": "stream",
     "text": [
      "COPY: https://triblive.com/sports/this-date-in-sports-history-feb-17/\n"
     ]
    },
    {
     "data": {
      "text/plain": [
       "{'1923': 'Cy Denneny of the Ottawa Senators becomes the NHL’s career scoring leader. He scores his 143rd goal to surpass Joe Malone in a 2-0 win over the Montreal Canadiens.',\n",
       " '1924': 'Johnny Weissmuller sets a world record in the 100-yard freestyle swim with a time of 52.4 seconds.',\n",
       " '1926': 'Suzanne Lenglen beats Helen Wills, 6-3, 8-6, in Cannes, France, in their only tennis match against each other.',\n",
       " '1928': 'Sweden’s Gillis Grafstrom successfully defends his 1920 and ‘24 Olympic figure skating title, with Austrian Willy Bockl finishing in second place as he did four years earlier.',\n",
       " '1941': 'Joe Louis knocks out Gus Dorazio in the second round in Philadelphia to defend his world heavyweight title.',\n",
       " '1955': 'Mike Souchak establishes the PGA Tour 72-hole scoring record with a 257 at the Texas Open. Souchak starts with a record-tying 60 at San Antonio’s Brackenridge Park course and ends with a 27-under-par, beating the previous low for a 72-hole event by two shots.',\n",
       " '1968': 'The Basketball Hall of Fame opens in Springfield, Mass.',\n",
       " '1974': 'Richard Petty wins his second straight Daytona 500. It’s the fifth Daytona 500 title for Petty, who also won in 1964, ‘66, ‘71 and ‘73.',\n",
       " '1992': 'Raisa Smetanina wins a gold medal with the Unified Team in the 20-kilometer cross-country relay to set the career Winter Olympics medal record with 10. Smetanina, 39, also becomes the oldest champion and the first to win a medal in five straight Winter Games.',\n",
       " '1994': 'San Antonio’s David Robinson records the fourth quadruple-double in NBA history with 34 points, 10 rebounds, 10 assists and 10 blocks in the Spurs’ 115-96 win over Detroit.',\n",
       " '1998': 'The U.S. women’s hockey team wins the sport’s first Olympic gold medal. Sandra Whyte scores on an empty-netter with 8 seconds left to give the United States a 3-1 victory over Canada.',\n",
       " '2010': 'Americans Lindsey Vonn and Julia Mancuso finish 1-2 in the downhill at the Vancouver Olympics. It’s the first time since 1984 the U.S won gold and silver in a women’s Alpine event.',\n",
       " '2013': 'Danica Patrick wins the Daytona 500 pole, becoming the first woman to secure the top spot for any Sprint Cup race.',\n",
       " '2014': 'Meryl Davis and Charlie White win the gold medal in ice dance, the first Olympic title in the event for the U.S.',\n",
       " '2018': 'Japan’s Yuzuru Hanyu becomes the first man to successfully defend his Olympic figure skating title since Dick Button in 1952.'}"
      ]
     },
     "metadata": {},
     "output_type": "display_data"
    }
   ],
   "source": [
    "url = 'https://triblive.com/sports/this-date-in-sports-history-feb-17/'\n",
    "\n",
    "extracted_text = scrape_url(url)\n",
    "# print(extracted_text)\n",
    "\n",
    "clean_text_ = clean_text(extracted_text, \"Remove the adsfrom your TribLIVE reading experience\")\n",
    "\n",
    "clean_dict = process_text(clean_text_)\n",
    "\n",
    "print(f\"COPY: {url}\")\n",
    "display(clean_dict)"
   ]
  },
  {
   "cell_type": "code",
   "execution_count": 16,
   "metadata": {},
   "outputs": [
    {
     "name": "stdout",
     "output_type": "stream",
     "text": [
      "{\n",
      "    \"1968\": \"The Basketball Hall of Fame opens in Springfield, Mass.\",\n",
      "    \"2013\": \"Danica Patrick wins the Daytona 500 pole, becoming the first woman to secure the top spot for any Sprint Cup race.\",\n",
      "    \"2018\": \"Japan's Yuzuru Hanyu becomes the first man to successfully defend his Olympic figure skating title since Dick Button in 1952.\"\n",
      "}\n"
     ]
    }
   ],
   "source": [
    "selected_years = ['', '', '']\n",
    "selected_years = ['', '', '']\n",
    "selected_years = ['', '', '']\n",
    "selected_years = ['', '', '']\n",
    "selected_years = ['1968', '2013', '2018']\n",
    "final_dict = filter_years(clean_dict, selected_years)\n",
    "\n",
    "for key in final_dict.keys():\n",
    "    final_dict[key] = re.sub(\"\\\\u201c\", \"'\", final_dict[key])\n",
    "    final_dict[key] = re.sub(\"\\\\u201d\", \"'\", final_dict[key])\n",
    "    final_dict[key] = re.sub(\"\\\\u2019\", \"'\", final_dict[key])\n",
    "    final_dict[key] = re.sub(\"\\\\u2014\", \"--\", final_dict[key])\n",
    "\n",
    "formatted_output = json.dumps(final_dict, indent=4)\n",
    "\n",
    "print(formatted_output)"
   ]
  }
 ],
 "metadata": {
  "kernelspec": {
   "display_name": "Python 3",
   "language": "python",
   "name": "python3"
  },
  "language_info": {
   "codemirror_mode": {
    "name": "ipython",
    "version": 3
   },
   "file_extension": ".py",
   "mimetype": "text/x-python",
   "name": "python",
   "nbconvert_exporter": "python",
   "pygments_lexer": "ipython3",
   "version": "3.11.2"
  }
 },
 "nbformat": 4,
 "nbformat_minor": 2
}
