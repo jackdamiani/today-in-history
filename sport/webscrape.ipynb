{
 "cells": [
  {
   "cell_type": "code",
   "execution_count": 2,
   "metadata": {},
   "outputs": [
    {
     "name": "stdout",
     "output_type": "stream",
     "text": [
      "Requirement already satisfied: requests in c:\\users\\jack damiani\\appdata\\local\\programs\\python\\python311\\lib\\site-packages (2.31.0)Note: you may need to restart the kernel to use updated packages.\n",
      "\n",
      "Requirement already satisfied: beautifulsoup4 in c:\\users\\jack damiani\\appdata\\local\\programs\\python\\python311\\lib\\site-packages (4.12.2)\n",
      "Requirement already satisfied: lxml in c:\\users\\jack damiani\\appdata\\local\\programs\\python\\python311\\lib\\site-packages (5.3.0)\n",
      "Requirement already satisfied: charset-normalizer<4,>=2 in c:\\users\\jack damiani\\appdata\\local\\programs\\python\\python311\\lib\\site-packages (from requests) (3.1.0)\n",
      "Requirement already satisfied: idna<4,>=2.5 in c:\\users\\jack damiani\\appdata\\local\\programs\\python\\python311\\lib\\site-packages (from requests) (3.4)\n",
      "Requirement already satisfied: urllib3<3,>=1.21.1 in c:\\users\\jack damiani\\appdata\\local\\programs\\python\\python311\\lib\\site-packages (from requests) (1.26.16)\n",
      "Requirement already satisfied: certifi>=2017.4.17 in c:\\users\\jack damiani\\appdata\\local\\programs\\python\\python311\\lib\\site-packages (from requests) (2023.5.7)\n",
      "Requirement already satisfied: soupsieve>1.2 in c:\\users\\jack damiani\\appdata\\local\\programs\\python\\python311\\lib\\site-packages (from beautifulsoup4) (2.4.1)\n"
     ]
    },
    {
     "name": "stderr",
     "output_type": "stream",
     "text": [
      "\n",
      "[notice] A new release of pip available: 22.3.1 -> 24.3.1\n",
      "[notice] To update, run: python.exe -m pip install --upgrade pip\n"
     ]
    }
   ],
   "source": [
    "%pip install requests beautifulsoup4 lxml "
   ]
  },
  {
   "cell_type": "code",
   "execution_count": 3,
   "metadata": {},
   "outputs": [],
   "source": [
    "import requests\n",
    "from bs4 import BeautifulSoup\n",
    "import re\n",
    "import json"
   ]
  },
  {
   "cell_type": "code",
   "execution_count": 4,
   "metadata": {},
   "outputs": [],
   "source": [
    "def scrape_url(url):\n",
    "    try:\n",
    "        headers = {\n",
    "            'User-Agent': 'Mozilla/5.0 (Windows NT 10.0; Win64; x64) AppleWebKit/537.36 (KHTML, like Gecko) Chrome/114.0.0.0 Safari/537.36'\n",
    "        }\n",
    "        # Send a GET request with headers\n",
    "        response = requests.get(url, headers=headers)\n",
    "        response.raise_for_status()  # Raise HTTPError for bad responses\n",
    "\n",
    "        # Parse the HTML content\n",
    "        soup = BeautifulSoup(response.text, 'lxml')\n",
    "\n",
    "        # Extract meaningful text (e.g., from <p> tags)\n",
    "        paragraphs = soup.find_all('p')\n",
    "        text = '\\n'.join(paragraph.get_text(strip=True) for paragraph in paragraphs)\n",
    "\n",
    "        return text if text else \"No meaningful text found on this page.\"\n",
    "\n",
    "    except requests.exceptions.RequestException as e:\n",
    "        return f\"An error occurred while fetching the URL: {e}\""
   ]
  },
  {
   "cell_type": "code",
   "execution_count": 5,
   "metadata": {},
   "outputs": [],
   "source": [
    "def clean_text(text, stop_line):\n",
    "    \"\"\"\n",
    "    Remove a specific line and everything after it from the text.\n",
    "    \n",
    "    Args:\n",
    "        text (str): The full extracted text.\n",
    "        stop_line (str): The line indicating where to stop.\n",
    "        \n",
    "    Returns:\n",
    "        str: The cleaned text.\n",
    "    \"\"\"\n",
    "    lines = text.split('\\n')  # Split the text into lines\n",
    "    cleaned_lines = []\n",
    "\n",
    "    year_pattern = re.compile(r\"^(\\d{4})—(.+)$\")\n",
    "    \n",
    "    for line in lines:\n",
    "        if stop_line in line:\n",
    "            break  # Stop processing once the stop line is found\n",
    "        cleaned_lines.append(line)\n",
    "    \n",
    "    return '\\n'.join(cleaned_lines)  # Rejoin the cleaned lines"
   ]
  },
  {
   "cell_type": "code",
   "execution_count": 6,
   "metadata": {},
   "outputs": [],
   "source": [
    "def process_text(input_text):\n",
    "    \"\"\"\n",
    "    Extract lines starting with a year in various formats and format them as a dictionary.\n",
    "\n",
    "    Args:\n",
    "        input_text (str): Raw text input.\n",
    "\n",
    "    Returns:\n",
    "        dict: A dictionary with years as keys and the text after the separator as values.\n",
    "    \"\"\"\n",
    "    result = {}\n",
    "\n",
    "    # Unified regex to handle multiple patterns\n",
    "    year_pattern = re.compile(r\"^(\\d{4})\\s*[—–-]{1,2}\\s*(.+)$\")\n",
    "\n",
    "\n",
    "    # Split the text into lines and process each\n",
    "    lines = input_text.splitlines()\n",
    "    for line in lines:\n",
    "        match = year_pattern.match(line)\n",
    "        if match:\n",
    "            year = match.group(1)  # Extract the year\n",
    "            text = match.group(2).strip()  # Extract and clean the text after the year\n",
    "            result[year] = text\n",
    "\n",
    "    return result"
   ]
  },
  {
   "cell_type": "code",
   "execution_count": 7,
   "metadata": {},
   "outputs": [],
   "source": [
    "def filter_years(data, selected_years):\n",
    "    \"\"\"\n",
    "    Filter the dictionary to only keep selected years.\n",
    "\n",
    "    Args:\n",
    "        data (dict): The full dictionary of years and their text.\n",
    "        selected_years (list): List of years to keep.\n",
    "\n",
    "    Returns:\n",
    "        dict: Filtered dictionary with only the selected years.\n",
    "    \"\"\"\n",
    "    return {year: data[year] for year in selected_years if year in data}"
   ]
  },
  {
   "cell_type": "code",
   "execution_count": 46,
   "metadata": {},
   "outputs": [
    {
     "name": "stdout",
     "output_type": "stream",
     "text": [
      "COPY: https://triblive.com/sports/this-date-in-sports-history-feb-13/\n"
     ]
    },
    {
     "data": {
      "text/plain": [
       "{'1923': 'The New York Renaissance, the first all-black pro basketball team, is organized. The Rens become one of the dominant basketball team of the 1920s and 1930s.',\n",
       " '1937': 'The NFL Redskins move from Boston to Washington.',\n",
       " '1948': 'Dick Button, the Olympic gold medalist, beats Hans Gerschwiler again to win the men’s World Figure Skating championship in Davos, Switzerland.',\n",
       " '1954': 'Furman’s Frank Selvey scores 100 points in a 149-95 victory over Newberry. Selvey breaks the record of 73 points — set by Temple’s Bill Mlkvy in 1951 — with 41 field goals and 18 free throws.',\n",
       " '1973': 'Frank Mahovlich of the Montreal Canadiens scores his 1,000th career point with an assist in a 7-6 loss to the Philadelphia Flyers.',\n",
       " '1975': 'Boston’s Bobby Orr gets an assist in the Bruins’ in a 3-1 loss to the Buffalo Sabres to become the first player in NHL history to reach 100 points in six consecutive seasons. It is the final 100-point season of his career.',\n",
       " '1977': 'Julius Erving, playing in his first NBA All-Star Game, is voted MVP, despite his East team losing 125-124. Erving scores 30 points and grabs 12 rebounds.',\n",
       " '1990': 'Bryan Trottier of the New York Islanders becomes the 15th player in NHL history to reach the 500-goal mark, scoring in the second period of a 4-2 loss to the Calgary Flames.',\n",
       " '1994': 'Tommy Moe wins the men’s downhill over local hero Kjetil Andre Aamodt at the Winter Olympics in Lillehammer, Norway. Moe won by .04 seconds, the closest Alpine race in Olympic history. Norwegian speed skater Johann Olav Koss has a world record-setting gold medal performance in the 5,000 meters in 6 minutes, 34.96 seconds.',\n",
       " '1995': 'Connecticut is voted No. 1 in the Associated Press Top 25 and joins the school’s women’s team at the top. It is the first time teams from one school were ranked No. 1 in the men’s and women’s college basketball polls.',\n",
       " '1999': 'Steve Jaros rolls the 13th televised 300 game in PBA history en route to winning the Chattanooga Open.',\n",
       " '2003': 'Teresa Phillips becomes the first woman to coach a men’s Division I team, but her presence couldn’t stop Tennessee State from losing for the 17th straight time, 71-56 at Austin Peay.',\n",
       " '2015': 'Ted Ligety wins the giant slalom at world championships held at Beaver Creek, Colo. Ligety defeats Austrian rival Marcel Hirscher by 0.45 seconds to attain his third straight world giant slalom title.',\n",
       " '2018': 'Chloe Kim saves the best for last in winning women’s halfpipe snowboarding event at the Pyeongchang Games. The 17-year-old from Torrance, Calif., puts up a leading score of 93.75 on the first of her three finals runs then betters it with a near-perfect 98.75 on her final run. Kim, with the gold already well in hand, becomes the first woman to land back-to-back 1080s, confirming her dominance in the sport.'}"
      ]
     },
     "metadata": {},
     "output_type": "display_data"
    }
   ],
   "source": [
    "url = 'https://triblive.com/sports/this-date-in-sports-history-feb-13/'\n",
    "\n",
    "extracted_text = scrape_url(url)\n",
    "# print(extracted_text)\n",
    "\n",
    "clean_text_ = clean_text(extracted_text, \"Remove the adsfrom your TribLIVE reading experience\")\n",
    "\n",
    "clean_dict = process_text(clean_text_)\n",
    "\n",
    "print(f\"COPY: {url}\")\n",
    "display(clean_dict)"
   ]
  },
  {
   "cell_type": "code",
   "execution_count": 47,
   "metadata": {},
   "outputs": [
    {
     "name": "stdout",
     "output_type": "stream",
     "text": [
      "{\n",
      "    \"1994\": \"Tommy Moe wins the men's downhill over local hero Kjetil Andre Aamodt at the Winter Olympics in Lillehammer, Norway. Moe won by .04 seconds, the closest Alpine race in Olympic history. Norwegian speed skater Johann Olav Koss has a world record-setting gold medal performance in the 5,000 meters in 6 minutes, 34.96 seconds.\",\n",
      "    \"1995\": \"Connecticut is voted No. 1 in the Associated Press Top 25 and joins the school's women's team at the top. It is the first time teams from one school were ranked No. 1 in the men's and women's college basketball polls.\",\n",
      "    \"2003\": \"Teresa Phillips becomes the first woman to coach a men's Division I team, but her presence couldn't stop Tennessee State from losing for the 17th straight time, 71-56 at Austin Peay.\"\n",
      "}\n"
     ]
    }
   ],
   "source": [
    "selected_years = ['', '', '']\n",
    "selected_years = ['1994', '1995', '2003']\n",
    "final_dict = filter_years(clean_dict, selected_years)\n",
    "\n",
    "for key in final_dict.keys():\n",
    "    final_dict[key] = re.sub(\"\\\\u201c\", \"'\", final_dict[key])\n",
    "    final_dict[key] = re.sub(\"\\\\u201d\", \"'\", final_dict[key])\n",
    "    final_dict[key] = re.sub(\"\\\\u2019\", \"'\", final_dict[key])\n",
    "    final_dict[key] = re.sub(\"\\\\u2014\", \"--\", final_dict[key])\n",
    "\n",
    "formatted_output = json.dumps(final_dict, indent=4)\n",
    "\n",
    "print(formatted_output)"
   ]
  }
 ],
 "metadata": {
  "kernelspec": {
   "display_name": "Python 3",
   "language": "python",
   "name": "python3"
  },
  "language_info": {
   "codemirror_mode": {
    "name": "ipython",
    "version": 3
   },
   "file_extension": ".py",
   "mimetype": "text/x-python",
   "name": "python",
   "nbconvert_exporter": "python",
   "pygments_lexer": "ipython3",
   "version": "3.11.2"
  }
 },
 "nbformat": 4,
 "nbformat_minor": 2
}
