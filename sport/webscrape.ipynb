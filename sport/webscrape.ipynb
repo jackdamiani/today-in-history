{
 "cells": [
  {
   "cell_type": "code",
   "execution_count": 2,
   "metadata": {},
   "outputs": [
    {
     "name": "stdout",
     "output_type": "stream",
     "text": [
      "Requirement already satisfied: requests in c:\\users\\jack damiani\\appdata\\local\\programs\\python\\python311\\lib\\site-packages (2.31.0)Note: you may need to restart the kernel to use updated packages.\n",
      "\n",
      "Requirement already satisfied: beautifulsoup4 in c:\\users\\jack damiani\\appdata\\local\\programs\\python\\python311\\lib\\site-packages (4.12.2)\n",
      "Collecting lxml\n",
      "  Downloading lxml-5.3.0-cp311-cp311-win_amd64.whl (3.8 MB)\n",
      "     ---------------------------------------- 3.8/3.8 MB 11.6 MB/s eta 0:00:00\n",
      "Requirement already satisfied: charset-normalizer<4,>=2 in c:\\users\\jack damiani\\appdata\\local\\programs\\python\\python311\\lib\\site-packages (from requests) (3.1.0)\n",
      "Requirement already satisfied: idna<4,>=2.5 in c:\\users\\jack damiani\\appdata\\local\\programs\\python\\python311\\lib\\site-packages (from requests) (3.4)\n",
      "Requirement already satisfied: urllib3<3,>=1.21.1 in c:\\users\\jack damiani\\appdata\\local\\programs\\python\\python311\\lib\\site-packages (from requests) (1.26.16)\n",
      "Requirement already satisfied: certifi>=2017.4.17 in c:\\users\\jack damiani\\appdata\\local\\programs\\python\\python311\\lib\\site-packages (from requests) (2023.5.7)\n",
      "Requirement already satisfied: soupsieve>1.2 in c:\\users\\jack damiani\\appdata\\local\\programs\\python\\python311\\lib\\site-packages (from beautifulsoup4) (2.4.1)\n",
      "Installing collected packages: lxml\n",
      "Successfully installed lxml-5.3.0\n"
     ]
    },
    {
     "name": "stderr",
     "output_type": "stream",
     "text": [
      "\n",
      "[notice] A new release of pip available: 22.3.1 -> 24.3.1\n",
      "[notice] To update, run: python.exe -m pip install --upgrade pip\n"
     ]
    }
   ],
   "source": [
    "%pip install requests beautifulsoup4 lxml "
   ]
  },
  {
   "cell_type": "code",
   "execution_count": 12,
   "metadata": {},
   "outputs": [],
   "source": [
    "import requests\n",
    "from bs4 import BeautifulSoup\n",
    "import re\n",
    "import json"
   ]
  },
  {
   "cell_type": "code",
   "execution_count": 6,
   "metadata": {},
   "outputs": [],
   "source": [
    "def scrape_url(url):\n",
    "    try:\n",
    "        headers = {\n",
    "            'User-Agent': 'Mozilla/5.0 (Windows NT 10.0; Win64; x64) AppleWebKit/537.36 (KHTML, like Gecko) Chrome/114.0.0.0 Safari/537.36'\n",
    "        }\n",
    "        # Send a GET request with headers\n",
    "        response = requests.get(url, headers=headers)\n",
    "        response.raise_for_status()  # Raise HTTPError for bad responses\n",
    "\n",
    "        # Parse the HTML content\n",
    "        soup = BeautifulSoup(response.text, 'lxml')\n",
    "\n",
    "        # Extract meaningful text (e.g., from <p> tags)\n",
    "        paragraphs = soup.find_all('p')\n",
    "        text = '\\n'.join(paragraph.get_text(strip=True) for paragraph in paragraphs)\n",
    "\n",
    "        return text if text else \"No meaningful text found on this page.\"\n",
    "\n",
    "    except requests.exceptions.RequestException as e:\n",
    "        return f\"An error occurred while fetching the URL: {e}\""
   ]
  },
  {
   "cell_type": "code",
   "execution_count": 98,
   "metadata": {},
   "outputs": [],
   "source": [
    "def clean_text(text, stop_line):\n",
    "    \"\"\"\n",
    "    Remove a specific line and everything after it from the text.\n",
    "    \n",
    "    Args:\n",
    "        text (str): The full extracted text.\n",
    "        stop_line (str): The line indicating where to stop.\n",
    "        \n",
    "    Returns:\n",
    "        str: The cleaned text.\n",
    "    \"\"\"\n",
    "    lines = text.split('\\n')  # Split the text into lines\n",
    "    cleaned_lines = []\n",
    "\n",
    "    year_pattern = re.compile(r\"^(\\d{4})—(.+)$\")\n",
    "    \n",
    "    for line in lines:\n",
    "        if stop_line in line:\n",
    "            break  # Stop processing once the stop line is found\n",
    "        cleaned_lines.append(line)\n",
    "    \n",
    "    return '\\n'.join(cleaned_lines)  # Rejoin the cleaned lines"
   ]
  },
  {
   "cell_type": "code",
   "execution_count": 119,
   "metadata": {},
   "outputs": [],
   "source": [
    "def process_text(input_text):\n",
    "    \"\"\"\n",
    "    Extract lines starting with a year in various formats and format them as a dictionary.\n",
    "\n",
    "    Args:\n",
    "        input_text (str): Raw text input.\n",
    "\n",
    "    Returns:\n",
    "        dict: A dictionary with years as keys and the text after the separator as values.\n",
    "    \"\"\"\n",
    "    result = {}\n",
    "\n",
    "    # Unified regex to handle multiple patterns\n",
    "    year_pattern = re.compile(r\"^(\\d{4})\\s*[—–-]{1,2}\\s*(.+)$\")\n",
    "\n",
    "\n",
    "    # Split the text into lines and process each\n",
    "    lines = input_text.splitlines()\n",
    "    for line in lines:\n",
    "        match = year_pattern.match(line)\n",
    "        if match:\n",
    "            year = match.group(1)  # Extract the year\n",
    "            text = match.group(2).strip()  # Extract and clean the text after the year\n",
    "            result[year] = text\n",
    "\n",
    "    return result"
   ]
  },
  {
   "cell_type": "code",
   "execution_count": 20,
   "metadata": {},
   "outputs": [],
   "source": [
    "def filter_years(data, selected_years):\n",
    "    \"\"\"\n",
    "    Filter the dictionary to only keep selected years.\n",
    "\n",
    "    Args:\n",
    "        data (dict): The full dictionary of years and their text.\n",
    "        selected_years (list): List of years to keep.\n",
    "\n",
    "    Returns:\n",
    "        dict: Filtered dictionary with only the selected years.\n",
    "    \"\"\"\n",
    "    return {year: data[year] for year in selected_years if year in data}"
   ]
  },
  {
   "cell_type": "code",
   "execution_count": 135,
   "metadata": {},
   "outputs": [
    {
     "name": "stdout",
     "output_type": "stream",
     "text": [
      "COPY: https://triblive.com/sports/this-date-in-sports-history-jan-20/\n"
     ]
    },
    {
     "data": {
      "text/plain": [
       "{'1891': 'The International YMCA in Springfield, Mass., is the site of the first official basketball game. Peach baskets were used, but it wasn’t until 1905 that someone removed the baskets’ bottoms.',\n",
       " '1937': 'Nels Stewart of the New York Americans becomes the NHL’s all-time scorer with his 270th goal in a 4-0 victory over the Montreal Canadiens.',\n",
       " '1952': 'George Mikan scores 61 points, a career-high, to lead the Minneapolis Lakers to a 91-81 double-overtime victory over the Rochester Royals.',\n",
       " '1966': 'Ted Williams, longtime star of the Boston Red Sox, is elected to the Baseball Hall of Fame. Williams was a two-time triple crown winner, a two-time MVP and the last player to hit over .400 — despite losing five prime years to service in the Marine Corps.',\n",
       " '1968': 'Elvin Hayes scores 39 points to lead Houston to a 71-69 victory and end UCLA’s 47-game winning streak. A regular-season record 52,693 fans attend the game at the Houston Astrodome.',\n",
       " '1970': 'Cincinnati’s Tom Van Arsdale and Phoenix’s Dick Van Arsdale are the first brothers to play in the same NBA All-Star game. Dick scores eight points for the West team, and Tom scores five for the East, which wins the game, 142-135, at Philadelphia.',\n",
       " '1980': 'Terry Bradshaw passes for 309 yards and sets two passing records to help the Pittsburgh Steelers beat the Los Angeles Rams 31-19 and become the first team to win four Super Bowls.',\n",
       " '1985': 'Joe Montana passes for a Super Bowl-record 331 yards and three touchdowns to lead the San Francisco 49ers to a 38-16 victory over the Miami Dolphins. Roger Craig scores a record three touchdowns.',\n",
       " '1996': 'Rudy Galindo, in the biggest upset in decades, wins the U.S. Figure Skating Championships, earning two perfect marks along the way.',\n",
       " '2001': 'Alan Webb of South Lakes High School in Reston, Va., becomes the first American prep runner to break four minutes for the indoor mile, with a time of 3 minutes, 59.86 seconds at the New Balance Games in New York.',\n",
       " '2002': 'Steve Yzerman becomes the ninth player in NHL history to notch 1,000 assists, which he earns on Mathieu Dandenault’s winning goal when Detroit beats Ottawa 3-2 in overtime.',\n",
       " '2008': 'Lawrence Tynes, who missed a 36-yard field goal at the end of regulation following a bad snap, nails a 47-yarder in overtime to give the New York Giants a 23-20 win over Green Bay in the NFC championship at Lambeau Field. The Giants win their 10th straight on the road in the third-coldest championship game ever.',\n",
       " '2013': 'Joe Flacco outduels Tom Brady, throwing three touchdown passes in the second half and leading the Baltimore Ravens to their first Super Bowl in 12 years with a 28-13 victory over the New England Patriots for the AFC championship.',\n",
       " '2016': 'Kathryn Smith is promoted by the Buffalo Bills to take over as special teams quality control coach, making her the first full-time female coach in the NFL.',\n",
       " '2017': 'Henrik Sedin had a goal for his 1,000th career point before Luca Sbisa scored the winner early in the third period to help Vancouver beat Florida 2-1. Sedin converted a pass from twin brother Daniel on a 2-on-1 rush for his 11th goal of the season. Henrik Sedin became the 85th player in NHL history to reach 1,000 points, and the 38th to accomplish the feat with one franchise.'}"
      ]
     },
     "metadata": {},
     "output_type": "display_data"
    }
   ],
   "source": [
    "url = 'https://triblive.com/sports/this-date-in-sports-history-jan-20/'\n",
    "\n",
    "extracted_text = scrape_url(url)\n",
    "# print(extracted_text)\n",
    "\n",
    "clean_text_ = clean_text(extracted_text, \"Remove the adsfrom your TribLIVE reading experience\")\n",
    "\n",
    "clean_dict = process_text(clean_text_)\n",
    "\n",
    "print(f\"COPY: {url}\")\n",
    "display(clean_dict)"
   ]
  },
  {
   "cell_type": "code",
   "execution_count": 136,
   "metadata": {},
   "outputs": [
    {
     "name": "stdout",
     "output_type": "stream",
     "text": [
      "{\n",
      "    \"1891\": \"The International YMCA in Springfield, Mass., is the site of the first official basketball game. Peach baskets were used, but it wasn't until 1905 that someone removed the baskets' bottoms.\",\n",
      "    \"1980\": \"Terry Bradshaw passes for 309 yards and sets two passing records to help the Pittsburgh Steelers beat the Los Angeles Rams 31-19 and become the first team to win four Super Bowls.\",\n",
      "    \"2008\": \"Lawrence Tynes, who missed a 36-yard field goal at the end of regulation following a bad snap, nails a 47-yarder in overtime to give the New York Giants a 23-20 win over Green Bay in the NFC championship at Lambeau Field. The Giants win their 10th straight on the road in the third-coldest championship game ever.\"\n",
      "}\n"
     ]
    }
   ],
   "source": [
    "selected_years = ['', '', '']\n",
    "selected_years = ['', '', '']\n",
    "selected_years = ['', '', '']\n",
    "selected_years = ['', '', '']\n",
    "selected_years = ['1891', '1980', '2008']\n",
    "final_dict = filter_years(clean_dict, selected_years)\n",
    "\n",
    "for key in final_dict.keys():\n",
    "    final_dict[key] = re.sub(\"\\\\u201c\", \"'\", final_dict[key])\n",
    "    final_dict[key] = re.sub(\"\\\\u201d\", \"'\", final_dict[key])\n",
    "    final_dict[key] = re.sub(\"\\\\u2019\", \"'\", final_dict[key])\n",
    "\n",
    "formatted_output = json.dumps(final_dict, indent=4)\n",
    "\n",
    "print(formatted_output)"
   ]
  }
 ],
 "metadata": {
  "kernelspec": {
   "display_name": "Python 3",
   "language": "python",
   "name": "python3"
  },
  "language_info": {
   "codemirror_mode": {
    "name": "ipython",
    "version": 3
   },
   "file_extension": ".py",
   "mimetype": "text/x-python",
   "name": "python",
   "nbconvert_exporter": "python",
   "pygments_lexer": "ipython3",
   "version": "3.11.2"
  }
 },
 "nbformat": 4,
 "nbformat_minor": 2
}
